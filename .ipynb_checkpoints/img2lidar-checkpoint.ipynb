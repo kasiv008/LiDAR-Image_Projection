{
 "cells": [
  {
   "cell_type": "code",
   "execution_count": 13,
   "metadata": {
    "ExecuteTime": {
     "end_time": "2021-02-25T15:26:10.229943Z",
     "start_time": "2021-02-25T15:26:09.505914Z"
    }
   },
   "outputs": [],
   "source": [
    "from IPython.display import Image\n",
    "import numpy as np\n",
    "import cv2\n",
    "import matplotlib.pyplot as plt\n",
    "from scipy.spatial.transform import Rotation\n",
    "import matplotlib.image as mpimg\n",
    "import yaml\n",
    "import open3d\n",
    "%matplotlib inline"
   ]
  },
  {
   "cell_type": "code",
   "execution_count": 14,
   "metadata": {
    "ExecuteTime": {
     "end_time": "2021-02-25T15:26:10.234675Z",
     "start_time": "2021-02-25T15:26:10.231516Z"
    }
   },
   "outputs": [],
   "source": [
    "def load_from_bin(bin_path):\n",
    "    obj = np.fromfile(bin_path, dtype=np.float32).reshape(-1, 4)\n",
    "    # ignore reflectivity info\n",
    "    return obj[:,:3]"
   ]
  },
  {
   "cell_type": "code",
   "execution_count": 15,
   "metadata": {
    "ExecuteTime": {
     "end_time": "2021-02-25T15:26:10.519499Z",
     "start_time": "2021-02-25T15:26:10.507427Z"
    }
   },
   "outputs": [],
   "source": [
    "def print_projection_plt(points, color, image):\n",
    "    hsv_image = cv2.cvtColor(image, cv2.COLOR_BGR2HSV)\n",
    "\n",
    "    for i in range(points.shape[1]):\n",
    "        cv2.circle(hsv_image, (np.int32(points[0][i]),np.int32(points[1][i])),3, (int(color[i]),255,255),-1)\n",
    "\n",
    "    return cv2.cvtColor(hsv_image, cv2.COLOR_HSV2RGB)"
   ]
  },
  {
   "cell_type": "code",
   "execution_count": 16,
   "metadata": {
    "ExecuteTime": {
     "end_time": "2021-02-25T15:26:10.957876Z",
     "start_time": "2021-02-25T15:26:10.936193Z"
    }
   },
   "outputs": [],
   "source": [
    "def depth_color(val, min_d=0, max_d=120):\n",
    "    np.clip(val, 0, max_d, out=val) \n",
    "    return (((val - min_d) / (max_d - min_d)) * 120).astype(np.uint8) \n",
    "def points_filter(points,img_width,img_height,P,RT):\n",
    "    ctl = RT\n",
    "    ctl = np.array(ctl)\n",
    "    dim_norm = 3\n",
    "    dim_proj = ctl.shape[1]\n",
    "    print(dim_norm,dim_proj)\n",
    "    fov_x = 2*np.arctan2(img_width, 2*P[0,0])*180/3.1415926+10\n",
    "    fov_y = 2*np.arctan2(img_height, 2*P[1,1])*180/3.1415926+10\n",
    "    R= np.eye(4)\n",
    "    p_l = np.ones((points.shape[0],points.shape[1]+1))\n",
    "    p_l[:,:3] = points\n",
    "    p_c = np.matmul(ctl,p_l.T)\n",
    "    p_c = p_c.T\n",
    "    x = p_c[:,0]\n",
    "    y = p_c[:,1]\n",
    "    z = p_c[:,2]\n",
    "\n",
    "    #dist = np.sqrt(x ** 2 + y ** 2 + z ** 2)\n",
    "    xangle = np.arctan2(x, z)*180/np.pi;\n",
    "    yangle = np.arctan2(y, z)*180/np.pi;\n",
    "    flag2 = (xangle > -fov_x/2) & (xangle < fov_x/2)\n",
    "    flag3 = (yangle > -fov_y/2) & (yangle < fov_y/2)\n",
    "    res = p_l[flag2&flag3,:3]\n",
    "    res = np.array(res)\n",
    "    x = res[:, 0]\n",
    "    y = res[:, 1]\n",
    "    z = res[:, 2]\n",
    "    dist = np.sqrt(x ** 2 + y ** 2 + z ** 2)\n",
    "    color = depth_color(dist, 0, 70)\n",
    "#     temp = np.reshape(p_c[:,dim_norm-1], (-1,1))\n",
    "#     poin = p_c[:,:dim_norm]/(np.matmul(temp, np.ones([1,dim_norm])))\n",
    "    return res,color"
   ]
  },
  {
   "cell_type": "code",
   "execution_count": 5,
   "metadata": {
    "ExecuteTime": {
     "end_time": "2021-02-25T15:26:11.413003Z",
     "start_time": "2021-02-25T15:26:11.397947Z"
    }
   },
   "outputs": [],
   "source": [
    "def get_cam_mtx(filepath):\n",
    "    data = np.loadtxt(filepath)\n",
    "    P = np.zeros((3,3))\n",
    "    P[0,0] = data[0]\n",
    "    P[1,1] = data[1]\n",
    "    P[2,2] = 1\n",
    "    P[0,2] = data[2]\n",
    "    P[1,2] = data[3]\n",
    "    return P"
   ]
  },
  {
   "cell_type": "code",
   "execution_count": 6,
   "metadata": {},
   "outputs": [],
   "source": [
    "def generate_colorpc(img, pc, pcimg, debug=False):\n",
    "    \"\"\"\n",
    "    Generate the PointCloud with color\n",
    "    Parameters:\n",
    "        img: image\n",
    "        pc: PointCloud\n",
    "        pcimg: PointCloud project to image\n",
    "    Return:\n",
    "        pc_color: PointCloud with color e.g. X Y Z R G B\n",
    "    \"\"\"\n",
    "    x = np.reshape(np.int32(pcimg[0]), (-1,1))\n",
    "    y = np.reshape(np.int32(pcimg[1]), (-1,1))\n",
    "    xy = np.hstack([x,y])\n",
    "\n",
    "    pc_color = []\n",
    "    for idx, i in enumerate(xy):\n",
    "        if (i[0]>1 and i[0]<img.shape[1]) and (i[1]>1 and i[1]<img.shape[0]): \n",
    "            bgr = img[int(i[1]), int(i[0])]\n",
    "            p_color = [pc[idx][0], pc[idx][1], pc[idx][2], bgr[2], bgr[1], bgr[0]]\n",
    "            pc_color.append(p_color)\n",
    "    pc_color = np.array(pc_color)\n",
    "\n",
    "    return pc_color"
   ]
  },
  {
   "cell_type": "code",
   "execution_count": 7,
   "metadata": {},
   "outputs": [],
   "source": [
    "def save_pcd(filename, pc_color):\n",
    "    \"\"\"\n",
    "    Save the PointCloud with color in the term of .pcd\n",
    "    Parameter:\n",
    "        filename: filename of the pcd file\n",
    "        pc_color: PointCloud with color\n",
    "    \"\"\"\n",
    "    f = open(filename, \"w\")\n",
    "\n",
    "    f.write(\"# .PCD v0.7 - Point Cloud Data file format\\n\")\n",
    "    f.write(\"VERSION 0.7\\n\")\n",
    "    f.write(\"FIELDS x y z rgb\\n\")\n",
    "    f.write(\"SIZE 4 4 4 4\\n\")\n",
    "    f.write(\"TYPE F F F F\\n\")\n",
    "    f.write(\"COUNT 1 1 1 1\\n\")\n",
    "    f.write(\"WIDTH {}\\n\".format(pc_color.shape[0]))\n",
    "    f.write(\"HEIGHT 1\\n\")\n",
    "    f.write(\"POINTS {}\\n\".format(pc_color.shape[0]))\n",
    "    f.write(\"DATA ascii\\n\")\n",
    "\n",
    "    for i in pc_color:\n",
    "        # rgb = (int(i[3])<<16) | (int(i[4])<<8) | (int(i[5]) | 1<<24)\n",
    "        # f.write(\"{:.6f} {:.6f} {:.6f} {}\\n\".format(i[0],i[1],i[2],rgb))\n",
    "        f.write(\"{:.6f} {:.6f} {:.6f} {} {} {}\\n\".format(i[0],i[1],i[2],i[3],i[4],i[5]))\n",
    "    \n",
    "    f.close()"
   ]
  },
  {
   "cell_type": "code",
   "execution_count": 8,
   "metadata": {},
   "outputs": [],
   "source": [
    "def draw_pc(pc_xyzrgb):\n",
    "    \"\"\"\n",
    "    Plot pointcloud with color\n",
    "    Parameter:\n",
    "        pc_xyzrgb: [[x, y, z, r, g, b],...]\n",
    "    \"\"\"\n",
    "    pc = open3d.geometry.PointCloud()\n",
    "    pc.points = open3d.utility.Vector3dVector(pc_xyzrgb[:, 0:3])\n",
    "    if pc_xyzrgb.shape[1] == 3:\n",
    "        open3d.visualization.draw_geometries([pc])\n",
    "        return 0\n",
    "    if np.max(pc_xyzrgb[:, 3:6]) > 20:  ## 0-255\n",
    "        pc.colors = open3d.utility.Vector3dVector(pc_xyzrgb[:, 3:6] / 255.)\n",
    "    else:\n",
    "        pc.colors = open3d.utility.Vector3dVector(pc_xyzrgb[:, 3:6])\n",
    "    open3d.visualization.draw_geometries([pc])\n",
    "    return 0"
   ]
  },
  {
   "cell_type": "code",
   "execution_count": 9,
   "metadata": {},
   "outputs": [],
   "source": [
    "def read_pcd(path):\n",
    "    \"\"\"\n",
    "    Read pcd file generated by ./func.py/save_pc\n",
    "    Parameter:\n",
    "        path: path of pcd file\n",
    "    Return:\n",
    "        xyzrgb: numpy array of colored pointcloud [[x, y, z. r, g, b], ...]\n",
    "    \"\"\"\n",
    "    xyzrgb = []\n",
    "    with open(path, 'r') as f:\n",
    "        content = f.readlines()\n",
    "        for i in content[10:]:\n",
    "            i_content = i.split(\" \")\n",
    "            x, y, z = float(i_content[0]), float(i_content[1]), float(i_content[2])\n",
    "            r, g, b = float(i_content[3]), float(i_content[4]), float(i_content[5][:-1])\n",
    "\n",
    "            xyzrgb.append([x,y,z,r,g,b])\n",
    "\n",
    "    return np.array(xyzrgb)"
   ]
  },
  {
   "cell_type": "code",
   "execution_count": 10,
   "metadata": {
    "ExecuteTime": {
     "end_time": "2021-02-25T15:26:12.218226Z",
     "start_time": "2021-02-25T15:26:12.201299Z"
    }
   },
   "outputs": [],
   "source": [
    "def get_lidar2cam_mtx(filepath):\n",
    "    with open(filepath,'r') as f:\n",
    "        data = yaml.load(f,Loader= yaml.Loader)\n",
    "    q = data['os1_cloud_node-pylon_camera_node']['q']\n",
    "    q = np.array([q['x'],q['y'],q['z'],q['w']])\n",
    "    t = data['os1_cloud_node-pylon_camera_node']['t']\n",
    "    t = np.array([t['x'],t['y'],t['z']])\n",
    "    R_vc = Rotation.from_quat(q)\n",
    "    R_vc = R_vc.as_matrix()\n",
    "\n",
    "    RT = np.eye(4,4)#returns identity matrix \n",
    "    RT[:3,:3] = R_vc\n",
    "    RT[:3,-1] = t\n",
    "    RT = np.linalg.inv(RT)# as we are doing lidar to image we need to take the inverse.\n",
    "    \n",
    "    return RT"
   ]
  },
  {
   "cell_type": "code",
   "execution_count": 11,
   "metadata": {
    "ExecuteTime": {
     "end_time": "2021-02-25T15:26:13.051049Z",
     "start_time": "2021-02-25T15:26:12.964766Z"
    },
    "scrolled": false
   },
   "outputs": [],
   "source": [
    "image = cv2.imread('./data/res.png')\n",
    "points = load_from_bin('./data/000000.bin')\n",
    "img_height, img_width, channels = image.shape\n",
    "distCoeff = np.array([-0.134313,-0.025905,0.002181,0.00084,0])\n",
    "distCoeff = distCoeff.reshape((5,1))\n",
    "P = get_cam_mtx('./data/camera_info.txt')"
   ]
  },
  {
   "cell_type": "code",
   "execution_count": 12,
   "metadata": {
    "ExecuteTime": {
     "end_time": "2021-02-25T15:26:14.894656Z",
     "start_time": "2021-02-25T15:26:13.925066Z"
    },
    "scrolled": true
   },
   "outputs": [
    {
     "name": "stdout",
     "output_type": "stream",
     "text": [
      "3 4\n"
     ]
    },
    {
     "ename": "NameError",
     "evalue": "name 'poin' is not defined",
     "output_type": "error",
     "traceback": [
      "\u001b[1;31m---------------------------------------------------------------------------\u001b[0m",
      "\u001b[1;31mNameError\u001b[0m                                 Traceback (most recent call last)",
      "\u001b[1;32m<ipython-input-12-6683759e9d4e>\u001b[0m in \u001b[0;36m<module>\u001b[1;34m\u001b[0m\n\u001b[0;32m      5\u001b[0m \u001b[0mrvec\u001b[0m\u001b[1;33m,\u001b[0m\u001b[0m_\u001b[0m \u001b[1;33m=\u001b[0m \u001b[0mcv2\u001b[0m\u001b[1;33m.\u001b[0m\u001b[0mRodrigues\u001b[0m\u001b[1;33m(\u001b[0m\u001b[0mR_vc\u001b[0m\u001b[1;33m)\u001b[0m\u001b[1;33m\u001b[0m\u001b[1;33m\u001b[0m\u001b[0m\n\u001b[0;32m      6\u001b[0m \u001b[0mtvec\u001b[0m \u001b[1;33m=\u001b[0m \u001b[0mT_vc\u001b[0m\u001b[1;33m\u001b[0m\u001b[1;33m\u001b[0m\u001b[0m\n\u001b[1;32m----> 7\u001b[1;33m \u001b[0mxyz_v\u001b[0m\u001b[1;33m,\u001b[0m \u001b[0mc_\u001b[0m\u001b[1;33m,\u001b[0m \u001b[0mpoin\u001b[0m \u001b[1;33m=\u001b[0m \u001b[0mpoints_filter\u001b[0m\u001b[1;33m(\u001b[0m\u001b[0mpoints\u001b[0m\u001b[1;33m,\u001b[0m\u001b[0mimg_width\u001b[0m\u001b[1;33m,\u001b[0m\u001b[0mimg_height\u001b[0m\u001b[1;33m,\u001b[0m\u001b[0mP\u001b[0m\u001b[1;33m,\u001b[0m\u001b[0mRT\u001b[0m\u001b[1;33m)\u001b[0m\u001b[1;33m\u001b[0m\u001b[1;33m\u001b[0m\u001b[0m\n\u001b[0m\u001b[0;32m      8\u001b[0m \u001b[1;33m\u001b[0m\u001b[0m\n\u001b[0;32m      9\u001b[0m \u001b[0mimgpoints\u001b[0m\u001b[1;33m,\u001b[0m \u001b[0m_\u001b[0m \u001b[1;33m=\u001b[0m \u001b[0mcv2\u001b[0m\u001b[1;33m.\u001b[0m\u001b[0mprojectPoints\u001b[0m\u001b[1;33m(\u001b[0m\u001b[0mxyz_v\u001b[0m\u001b[1;33m[\u001b[0m\u001b[1;33m:\u001b[0m\u001b[1;33m,\u001b[0m\u001b[1;33m:\u001b[0m\u001b[1;33m]\u001b[0m\u001b[1;33m,\u001b[0m\u001b[0mrvec\u001b[0m\u001b[1;33m,\u001b[0m \u001b[0mtvec\u001b[0m\u001b[1;33m,\u001b[0m \u001b[0mP\u001b[0m\u001b[1;33m,\u001b[0m \u001b[0mdistCoeff\u001b[0m\u001b[1;33m)\u001b[0m\u001b[1;33m\u001b[0m\u001b[1;33m\u001b[0m\u001b[0m\n",
      "\u001b[1;32m<ipython-input-4-363ba0fba0d0>\u001b[0m in \u001b[0;36mpoints_filter\u001b[1;34m(points, img_width, img_height, P, RT)\u001b[0m\n\u001b[0;32m     33\u001b[0m \u001b[1;31m#     temp = np.reshape(p_c[:,dim_norm-1], (-1,1))\u001b[0m\u001b[1;33m\u001b[0m\u001b[1;33m\u001b[0m\u001b[1;33m\u001b[0m\u001b[0m\n\u001b[0;32m     34\u001b[0m \u001b[1;31m#     poin = p_c[:,:dim_norm]/(np.matmul(temp, np.ones([1,dim_norm])))\u001b[0m\u001b[1;33m\u001b[0m\u001b[1;33m\u001b[0m\u001b[1;33m\u001b[0m\u001b[0m\n\u001b[1;32m---> 35\u001b[1;33m     \u001b[1;32mreturn\u001b[0m \u001b[0mres\u001b[0m\u001b[1;33m,\u001b[0m\u001b[0mcolor\u001b[0m\u001b[1;33m,\u001b[0m\u001b[0mpoin\u001b[0m\u001b[1;33m\u001b[0m\u001b[1;33m\u001b[0m\u001b[0m\n\u001b[0m",
      "\u001b[1;31mNameError\u001b[0m: name 'poin' is not defined"
     ]
    }
   ],
   "source": [
    "RT= get_lidar2cam_mtx('./data/LC_calib0.yaml')\n",
    "R_vc = RT[:3,:3]\n",
    "T_vc = RT[:3,3]\n",
    "T_vc = T_vc.reshape(3, 1)\n",
    "rvec,_ = cv2.Rodrigues(R_vc)\n",
    "tvec = T_vc\n",
    "xyz_v, c_ = points_filter(points,img_width,img_height,P,RT)\n",
    "\n",
    "imgpoints, _ = cv2.projectPoints(xyz_v[:,:],rvec, tvec, P, distCoeff)\n",
    "lidrpts, _ = cv2.projectPoints(np.array(points),rvec, tvec, P, distCoeff)\n",
    "imgpoints = np.squeeze(imgpoints,1)\n",
    "imgpoints = imgpoints.T\n",
    "lidrpts = np.squeeze(lidrpts,1)\n",
    "res = print_projection_plt(points=imgpoints, color=c_, image=image)\n",
    "print(xyz_v[:,:].shape,imgpoints.shape)\n",
    "pc_color = generate_colorpc(image,xyz_v[:,:],imgpoints)\n",
    "#save_pcd('./result/lol.pcd',pc_color)\n",
    "#pc = read_pcd('./result/lol.pcd')\n",
    "draw_pc(pc_color)\n",
    "plt.subplots(1,1, figsize = (20,20) )\n",
    "plt.title(\"Velodyne points to camera image Result\")\n",
    "plt.imshow(res)"
   ]
  },
  {
   "cell_type": "code",
   "execution_count": null,
   "metadata": {},
   "outputs": [],
   "source": []
  }
 ],
 "metadata": {
  "anaconda-cloud": {},
  "kernelspec": {
   "display_name": "Python 3",
   "language": "python",
   "name": "python3"
  },
  "language_info": {
   "codemirror_mode": {
    "name": "ipython",
    "version": 3
   },
   "file_extension": ".py",
   "mimetype": "text/x-python",
   "name": "python",
   "nbconvert_exporter": "python",
   "pygments_lexer": "ipython3",
   "version": "3.8.5"
  },
  "varInspector": {
   "cols": {
    "lenName": 16,
    "lenType": 16,
    "lenVar": 40
   },
   "kernels_config": {
    "python": {
     "delete_cmd_postfix": "",
     "delete_cmd_prefix": "del ",
     "library": "var_list.py",
     "varRefreshCmd": "print(var_dic_list())"
    },
    "r": {
     "delete_cmd_postfix": ") ",
     "delete_cmd_prefix": "rm(",
     "library": "var_list.r",
     "varRefreshCmd": "cat(var_dic_list()) "
    }
   },
   "types_to_exclude": [
    "module",
    "function",
    "builtin_function_or_method",
    "instance",
    "_Feature"
   ],
   "window_display": false
  }
 },
 "nbformat": 4,
 "nbformat_minor": 1
}
